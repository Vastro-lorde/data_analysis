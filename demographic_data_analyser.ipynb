{
 "cells": [
  {
   "cell_type": "code",
   "execution_count": 96,
   "metadata": {},
   "outputs": [],
   "source": [
    "import pandas as pd\n",
    "import math"
   ]
  },
  {
   "cell_type": "code",
   "execution_count": 97,
   "metadata": {},
   "outputs": [],
   "source": [
    "df = pd.read_csv('./data/adult.data.csv')"
   ]
  },
  {
   "cell_type": "markdown",
   "metadata": {},
   "source": [
    " # How many of each race are represented in this dataset? This should be a Pandas series with race names as the index labels."
   ]
  },
  {
   "cell_type": "code",
   "execution_count": 98,
   "metadata": {},
   "outputs": [
    {
     "name": "stdout",
     "output_type": "stream",
     "text": [
      "race\n",
      "White                 27816\n",
      "Black                  3124\n",
      "Asian-Pac-Islander     1039\n",
      "Amer-Indian-Eskimo      311\n",
      "Other                   271\n",
      "Name: count, dtype: int64\n"
     ]
    }
   ],
   "source": [
    "\n",
    "race_count = df['race'].value_counts()\n",
    "print(race_count)"
   ]
  },
  {
   "cell_type": "markdown",
   "metadata": {},
   "source": [
    " # What is the average age of men?"
   ]
  },
  {
   "cell_type": "code",
   "execution_count": 116,
   "metadata": {},
   "outputs": [
    {
     "name": "stdout",
     "output_type": "stream",
     "text": [
      "39.4\n"
     ]
    }
   ],
   "source": [
    "average_age_men = round(df[df['sex'] == 'Male']['age'].mean(),1)\n",
    "print(average_age_men)"
   ]
  },
  {
   "cell_type": "markdown",
   "metadata": {},
   "source": [
    " # What percentage of people with advanced education (`Bachelors`, `Masters`, or `Doctorate`) make more than 50K?\n",
    "  # What percentage of people without advanced education make more than 50K?\n",
    "\n",
    "  # with and without `Bachelors`, `Masters`, or `Doctorate`"
   ]
  },
  {
   "cell_type": "code",
   "execution_count": 100,
   "metadata": {},
   "outputs": [
    {
     "name": "stdout",
     "output_type": "stream",
     "text": [
      "5355\n",
      "16.44605509658794\n"
     ]
    }
   ],
   "source": [
    "bachelor_degree_holders_count = df[df['education'] == 'Bachelors']['education'].count()\n",
    "print(bachelor_degree_holders_count)\n",
    "percentage_bachelors = bachelor_degree_holders_count / df['education'].count() * 100\n",
    "print(percentage_bachelors)"
   ]
  },
  {
   "cell_type": "code",
   "execution_count": 101,
   "metadata": {},
   "outputs": [
    {
     "name": "stdout",
     "output_type": "stream",
     "text": [
      "higher education:         age         workclass  fnlwgt  education  education-num  \\\n",
      "0       39         State-gov   77516  Bachelors             13   \n",
      "1       50  Self-emp-not-inc   83311  Bachelors             13   \n",
      "4       28           Private  338409  Bachelors             13   \n",
      "5       37           Private  284582    Masters             14   \n",
      "8       31           Private   45781    Masters             14   \n",
      "...    ...               ...     ...        ...            ...   \n",
      "32538   38           Private  139180  Bachelors             13   \n",
      "32539   71                 ?  287372  Doctorate             16   \n",
      "32544   31           Private  199655    Masters             14   \n",
      "32553   32           Private  116138    Masters             14   \n",
      "32554   53           Private  321865    Masters             14   \n",
      "\n",
      "           marital-status       occupation   relationship                race  \\\n",
      "0           Never-married     Adm-clerical  Not-in-family               White   \n",
      "1      Married-civ-spouse  Exec-managerial        Husband               White   \n",
      "4      Married-civ-spouse   Prof-specialty           Wife               Black   \n",
      "5      Married-civ-spouse  Exec-managerial           Wife               White   \n",
      "8           Never-married   Prof-specialty  Not-in-family               White   \n",
      "...                   ...              ...            ...                 ...   \n",
      "32538            Divorced   Prof-specialty      Unmarried               Black   \n",
      "32539  Married-civ-spouse                ?        Husband               White   \n",
      "32544            Divorced    Other-service  Not-in-family               Other   \n",
      "32553       Never-married     Tech-support  Not-in-family  Asian-Pac-Islander   \n",
      "32554  Married-civ-spouse  Exec-managerial        Husband               White   \n",
      "\n",
      "          sex  capital-gain  capital-loss  hours-per-week native-country  \\\n",
      "0        Male          2174             0              40  United-States   \n",
      "1        Male             0             0              13  United-States   \n",
      "4      Female             0             0              40           Cuba   \n",
      "5      Female             0             0              40  United-States   \n",
      "8      Female         14084             0              50  United-States   \n",
      "...       ...           ...           ...             ...            ...   \n",
      "32538  Female         15020             0              45  United-States   \n",
      "32539    Male             0             0              10  United-States   \n",
      "32544  Female             0             0              30  United-States   \n",
      "32553    Male             0             0              11         Taiwan   \n",
      "32554    Male             0             0              40  United-States   \n",
      "\n",
      "      salary  \n",
      "0      <=50K  \n",
      "1      <=50K  \n",
      "4      <=50K  \n",
      "5      <=50K  \n",
      "8       >50K  \n",
      "...      ...  \n",
      "32538   >50K  \n",
      "32539   >50K  \n",
      "32544  <=50K  \n",
      "32553  <=50K  \n",
      "32554   >50K  \n",
      "\n",
      "[7491 rows x 15 columns]\n",
      "lower education: \n",
      "    age         workclass  fnlwgt  education  education-num  \\\n",
      "0   39         State-gov   77516  Bachelors             13   \n",
      "1   50  Self-emp-not-inc   83311  Bachelors             13   \n",
      "4   28           Private  338409  Bachelors             13   \n",
      "5   37           Private  284582    Masters             14   \n",
      "8   31           Private   45781    Masters             14   \n",
      "\n",
      "       marital-status       occupation   relationship   race     sex  \\\n",
      "0       Never-married     Adm-clerical  Not-in-family  White    Male   \n",
      "1  Married-civ-spouse  Exec-managerial        Husband  White    Male   \n",
      "4  Married-civ-spouse   Prof-specialty           Wife  Black  Female   \n",
      "5  Married-civ-spouse  Exec-managerial           Wife  White  Female   \n",
      "8       Never-married   Prof-specialty  Not-in-family  White  Female   \n",
      "\n",
      "   capital-gain  capital-loss  hours-per-week native-country salary  \n",
      "0          2174             0              40  United-States  <=50K  \n",
      "1             0             0              13  United-States  <=50K  \n",
      "4             0             0              40           Cuba  <=50K  \n",
      "5             0             0              40  United-States  <=50K  \n",
      "8         14084             0              50  United-States   >50K  \n"
     ]
    }
   ],
   "source": [
    "# with and without `Bachelors`, `Masters`, or `Doctorate`\n",
    "bsc_holders = (df['education'] == 'Bachelors')\n",
    "msc_holders = (df['education'] == 'Masters')\n",
    "phd_holders = (df['education'] == 'Doctorate')\n",
    "\n",
    "adv_edu_holders = (bsc_holders | msc_holders | phd_holders)\n",
    "\n",
    "higher_education = df[adv_edu_holders]\n",
    "print(\"higher education: \",higher_education)\n",
    "lower_education = df[adv_edu_holders]\n",
    "print(\"lower education: \\n\", lower_education.head())"
   ]
  },
  {
   "cell_type": "code",
   "execution_count": 102,
   "metadata": {},
   "outputs": [
    {
     "name": "stdout",
     "output_type": "stream",
     "text": [
      "3486\n",
      "4005\n"
     ]
    }
   ],
   "source": [
    "advanced_ed_sal_50k = higher_education[higher_education['salary'] == '>50K']['education'].count()\n",
    "print(advanced_ed_sal_50k)\n",
    "basic_ed_sal_50k = lower_education[lower_education['salary'] == '<=50K']['education'].count()\n",
    "print(basic_ed_sal_50k)"
   ]
  },
  {
   "cell_type": "code",
   "execution_count": 103,
   "metadata": {},
   "outputs": [
    {
     "name": "stdout",
     "output_type": "stream",
     "text": [
      "46.535843011613935\n",
      "1.597526924611089\n"
     ]
    }
   ],
   "source": [
    "# percentage with salary >50K\n",
    "higher_education_rich = advanced_ed_sal_50k / df[adv_edu_holders]['salary'].count() * 100\n",
    "lower_education_rich = basic_ed_sal_50k / df[~adv_edu_holders]['salary'].count() * 10\n",
    "\n",
    "print(higher_education_rich)\n",
    "print(lower_education_rich)"
   ]
  },
  {
   "cell_type": "markdown",
   "metadata": {},
   "source": [
    "# a person works per week (hours-per-week feature)?"
   ]
  },
  {
   "cell_type": "code",
   "execution_count": 104,
   "metadata": {},
   "outputs": [
    {
     "name": "stdout",
     "output_type": "stream",
     "text": [
      "1\n"
     ]
    }
   ],
   "source": [
    "min_work_hours = df['hours-per-week'].min()\n",
    "print(min_work_hours)"
   ]
  },
  {
   "cell_type": "code",
   "execution_count": 105,
   "metadata": {},
   "outputs": [
    {
     "name": "stdout",
     "output_type": "stream",
     "text": [
      "       age         workclass  fnlwgt     education  education-num  \\\n",
      "189     58         State-gov  109567     Doctorate             16   \n",
      "1036    66      Self-emp-inc  150726           9th              5   \n",
      "1262    69                 ?  195779     Assoc-voc             11   \n",
      "5590    78                 ?  363134       HS-grad              9   \n",
      "5632    45                 ?  189564       Masters             14   \n",
      "5766    62                 ?   97231  Some-college             10   \n",
      "5808    76                 ?  211574          10th              6   \n",
      "8447    67                 ?  244122     Assoc-voc             11   \n",
      "9147    75                 ?  260543          10th              6   \n",
      "11451   27           Private  147951       HS-grad              9   \n",
      "19337   72                 ?   76860       HS-grad              9   \n",
      "19750   23           Private   72887       HS-grad              9   \n",
      "20072   65                 ?   76043       HS-grad              9   \n",
      "20909   77  Self-emp-not-inc   71676  Some-college             10   \n",
      "22960   21           Private  184135       HS-grad              9   \n",
      "23536   69                 ?  320280  Some-college             10   \n",
      "24284   57  Self-emp-not-inc   56480       HS-grad              9   \n",
      "25078   74           Private  260669          10th              6   \n",
      "29752   69                 ?  117525    Assoc-acdm             12   \n",
      "32525   81                 ?  120478     Assoc-voc             11   \n",
      "\n",
      "           marital-status         occupation    relationship  \\\n",
      "189    Married-civ-spouse     Prof-specialty         Husband   \n",
      "1036   Married-civ-spouse    Exec-managerial         Husband   \n",
      "1262              Widowed                  ?   Not-in-family   \n",
      "5590              Widowed                  ?   Not-in-family   \n",
      "5632   Married-civ-spouse                  ?            Wife   \n",
      "5766   Married-civ-spouse                  ?            Wife   \n",
      "5808   Married-civ-spouse                  ?         Husband   \n",
      "8447              Widowed                  ?   Not-in-family   \n",
      "9147              Widowed                  ?  Other-relative   \n",
      "11451       Never-married  Machine-op-inspct  Other-relative   \n",
      "19337  Married-civ-spouse                  ?         Husband   \n",
      "19750       Never-married       Craft-repair       Own-child   \n",
      "20072  Married-civ-spouse                  ?         Husband   \n",
      "20909             Widowed       Adm-clerical   Not-in-family   \n",
      "22960       Never-married  Machine-op-inspct       Own-child   \n",
      "23536       Never-married                  ?   Not-in-family   \n",
      "24284  Married-civ-spouse    Exec-managerial         Husband   \n",
      "25078            Divorced      Other-service   Not-in-family   \n",
      "29752            Divorced                  ?       Unmarried   \n",
      "32525            Divorced                  ?       Unmarried   \n",
      "\n",
      "                     race     sex  capital-gain  capital-loss  hours-per-week  \\\n",
      "189                 White    Male             0             0               1   \n",
      "1036                White    Male          1409             0               1   \n",
      "1262                White  Female             0             0               1   \n",
      "5590                White  Female             0             0               1   \n",
      "5632                White  Female             0             0               1   \n",
      "5766                White  Female             0             0               1   \n",
      "5808                White    Male             0             0               1   \n",
      "8447                White  Female             0             0               1   \n",
      "9147   Asian-Pac-Islander  Female             0             0               1   \n",
      "11451               White    Male             0             0               1   \n",
      "19337  Asian-Pac-Islander    Male             0             0               1   \n",
      "19750  Asian-Pac-Islander    Male             0             0               1   \n",
      "20072               White    Male             0             0               1   \n",
      "20909               White  Female             0          1944               1   \n",
      "22960               Black    Male             0             0               1   \n",
      "23536               White    Male          1848             0               1   \n",
      "24284               White    Male             0             0               1   \n",
      "25078               White  Female             0             0               1   \n",
      "29752               White  Female             0             0               1   \n",
      "32525               White  Female             0             0               1   \n",
      "\n",
      "      native-country salary  \n",
      "189    United-States   >50K  \n",
      "1036               ?  <=50K  \n",
      "1262   United-States  <=50K  \n",
      "5590   United-States  <=50K  \n",
      "5632   United-States  <=50K  \n",
      "5766   United-States  <=50K  \n",
      "5808   United-States  <=50K  \n",
      "8447   United-States  <=50K  \n",
      "9147           China  <=50K  \n",
      "11451  United-States  <=50K  \n",
      "19337  United-States  <=50K  \n",
      "19750        Vietnam  <=50K  \n",
      "20072  United-States   >50K  \n",
      "20909  United-States  <=50K  \n",
      "22960  United-States  <=50K  \n",
      "23536  United-States  <=50K  \n",
      "24284  United-States  <=50K  \n",
      "25078  United-States  <=50K  \n",
      "29752  United-States  <=50K  \n",
      "32525              ?  <=50K  \n"
     ]
    }
   ],
   "source": [
    "num_min_workers = df[df['hours-per-week'] == min_work_hours]\n",
    "print(num_min_workers)"
   ]
  },
  {
   "cell_type": "markdown",
   "metadata": {},
   "source": [
    "# What percentage of the people who work the minimum number of hours per week have a salary of >50K?"
   ]
  },
  {
   "cell_type": "code",
   "execution_count": 106,
   "metadata": {},
   "outputs": [
    {
     "name": "stdout",
     "output_type": "stream",
     "text": [
      "2\n"
     ]
    }
   ],
   "source": [
    "rich_min_workers = num_min_workers[num_min_workers['salary'] == '>50K'].value_counts().count()\n",
    "print(rich_min_workers)"
   ]
  },
  {
   "cell_type": "code",
   "execution_count": 107,
   "metadata": {},
   "outputs": [
    {
     "name": "stdout",
     "output_type": "stream",
     "text": [
      "10.0\n"
     ]
    }
   ],
   "source": [
    "rich_percentage = rich_min_workers / num_min_workers.value_counts().count() * 100\n",
    "print(rich_percentage)"
   ]
  },
  {
   "cell_type": "markdown",
   "metadata": {},
   "source": [
    "# What country has the highest percentage of people that earn >50K?"
   ]
  },
  {
   "cell_type": "code",
   "execution_count": 108,
   "metadata": {},
   "outputs": [
    {
     "name": "stdout",
     "output_type": "stream",
     "text": [
      "countries count:  32561\n",
      "7171\n"
     ]
    }
   ],
   "source": [
    "# h_e_c = highest earning countries\n",
    "h_e_c = df[df['salary'] == '>50K']['native-country']\n",
    "# c_num = countries count\n",
    "c_num = df['native-country'].count()\n",
    "print('countries count: ',c_num)\n",
    "\n",
    "print(h_e_c.value_counts().iloc[0])\n"
   ]
  },
  {
   "cell_type": "code",
   "execution_count": 109,
   "metadata": {},
   "outputs": [
    {
     "name": "stdout",
     "output_type": "stream",
     "text": [
      "highest earning country:  United-States\n",
      "highest earning country percentage:  22.023279383311323\n"
     ]
    }
   ],
   "source": [
    "highest_earning_country = h_e_c.value_counts().idxmax()\n",
    "highest_earning_country_percentage = h_e_c.value_counts().iloc[0] / c_num * 100\n",
    "\n",
    "print('highest earning country: ', highest_earning_country)\n",
    "print('highest earning country percentage: ', highest_earning_country_percentage)"
   ]
  },
  {
   "cell_type": "code",
   "execution_count": 110,
   "metadata": {},
   "outputs": [
    {
     "name": "stdout",
     "output_type": "stream",
     "text": [
      "Prof-specialty\n"
     ]
    },
    {
     "name": "stderr",
     "output_type": "stream",
     "text": [
      "C:\\Users\\seun\\AppData\\Local\\Temp\\ipykernel_13448\\2516605169.py:1: UserWarning: Boolean Series key will be reindexed to match DataFrame index.\n",
      "  top_IN_occupation = df[df['native-country'] == \"India\"][df['salary'] == \">50K\"]['occupation'].value_counts().idxmax()\n"
     ]
    }
   ],
   "source": [
    "top_IN_occupation = df[df['native-country'] == \"India\"][df['salary'] == \">50K\"]['occupation'].value_counts().idxmax()\n",
    "print(top_IN_occupation)"
   ]
  }
 ],
 "metadata": {
  "kernelspec": {
   "display_name": "data_examing-x0TaOFwW",
   "language": "python",
   "name": "python3"
  },
  "language_info": {
   "codemirror_mode": {
    "name": "ipython",
    "version": 3
   },
   "file_extension": ".py",
   "mimetype": "text/x-python",
   "name": "python",
   "nbconvert_exporter": "python",
   "pygments_lexer": "ipython3",
   "version": "3.12.0"
  }
 },
 "nbformat": 4,
 "nbformat_minor": 2
}
