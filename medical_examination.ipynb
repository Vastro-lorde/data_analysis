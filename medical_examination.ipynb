{
 "cells": [
  {
   "cell_type": "code",
   "execution_count": 54,
   "metadata": {},
   "outputs": [],
   "source": [
    "import pandas as pd\n",
    "import seaborn as sns\n",
    "import matplotlib.pyplot as plt\n",
    "import numpy as np"
   ]
  },
  {
   "cell_type": "markdown",
   "metadata": {},
   "source": [
    "# Import data"
   ]
  },
  {
   "cell_type": "code",
   "execution_count": 62,
   "metadata": {},
   "outputs": [
    {
     "name": "stdout",
     "output_type": "stream",
     "text": [
      "          id    age  sex  height  weight  ap_hi  ap_lo  cholesterol  gluc  \\\n",
      "0          0  18393    2     168    62.0    110     80            1     1   \n",
      "1          1  20228    1     156    85.0    140     90            3     1   \n",
      "2          2  18857    1     165    64.0    130     70            3     1   \n",
      "3          3  17623    2     169    82.0    150    100            1     1   \n",
      "4          4  17474    1     156    56.0    100     60            1     1   \n",
      "...      ...    ...  ...     ...     ...    ...    ...          ...   ...   \n",
      "69995  99993  19240    2     168    76.0    120     80            1     1   \n",
      "69996  99995  22601    1     158   126.0    140     90            2     2   \n",
      "69997  99996  19066    2     183   105.0    180     90            3     1   \n",
      "69998  99998  22431    1     163    72.0    135     80            1     2   \n",
      "69999  99999  20540    1     170    72.0    120     80            2     1   \n",
      "\n",
      "       smoke  alco  active  cardio  \n",
      "0          0     0       1       0  \n",
      "1          0     0       1       1  \n",
      "2          0     0       0       1  \n",
      "3          0     0       1       1  \n",
      "4          0     0       0       0  \n",
      "...      ...   ...     ...     ...  \n",
      "69995      1     0       1       0  \n",
      "69996      0     0       1       1  \n",
      "69997      0     1       0       1  \n",
      "69998      0     0       0       1  \n",
      "69999      0     0       1       0  \n",
      "\n",
      "[70000 rows x 13 columns]\n"
     ]
    }
   ],
   "source": [
    "df = pd.read_csv('./data/medical_examination.csv')\n",
    "print(df)"
   ]
  },
  {
   "cell_type": "markdown",
   "metadata": {},
   "source": [
    "# Add 'overweight' column"
   ]
  },
  {
   "cell_type": "code",
   "execution_count": 69,
   "metadata": {},
   "outputs": [
    {
     "name": "stdout",
     "output_type": "stream",
     "text": [
      "          id    age  sex  height  weight  ap_hi  ap_lo  cholesterol  gluc  \\\n",
      "0          0  18393    2     168    62.0    110     80            0     0   \n",
      "1          1  20228    1     156    85.0    140     90            1     0   \n",
      "2          2  18857    1     165    64.0    130     70            1     0   \n",
      "3          3  17623    2     169    82.0    150    100            0     0   \n",
      "4          4  17474    1     156    56.0    100     60            0     0   \n",
      "...      ...    ...  ...     ...     ...    ...    ...          ...   ...   \n",
      "69995  99993  19240    2     168    76.0    120     80            0     0   \n",
      "69996  99995  22601    1     158   126.0    140     90            1     1   \n",
      "69997  99996  19066    2     183   105.0    180     90            1     0   \n",
      "69998  99998  22431    1     163    72.0    135     80            0     1   \n",
      "69999  99999  20540    1     170    72.0    120     80            1     0   \n",
      "\n",
      "       smoke  alco  active  cardio  overweight  \n",
      "0          0     0       1       0           0  \n",
      "1          0     0       1       1           1  \n",
      "2          0     0       0       1           0  \n",
      "3          0     0       1       1           1  \n",
      "4          0     0       0       0           0  \n",
      "...      ...   ...     ...     ...         ...  \n",
      "69995      1     0       1       0           1  \n",
      "69996      0     0       1       1           1  \n",
      "69997      0     1       0       1           1  \n",
      "69998      0     0       0       1           1  \n",
      "69999      0     0       1       0           0  \n",
      "\n",
      "[70000 rows x 14 columns]\n"
     ]
    }
   ],
   "source": [
    "df['overweight'] = np.where((df['weight'] / np.square(df['height']/ 100)) > 25, 1, 0)\n",
    "print(df)"
   ]
  },
  {
   "cell_type": "markdown",
   "metadata": {},
   "source": [
    "# Normalize data by making 0 always good and 1 always bad. If the value of 'cholesterol' or 'gluc' is 1, make the value 0. If the value is more than 1, make the value 1."
   ]
  },
  {
   "cell_type": "code",
   "execution_count": 70,
   "metadata": {},
   "outputs": [
    {
     "name": "stdout",
     "output_type": "stream",
     "text": [
      "       cholesterol  gluc\n",
      "0                1     1\n",
      "1                0     1\n",
      "2                0     1\n",
      "3                1     1\n",
      "4                1     1\n",
      "...            ...   ...\n",
      "69995            1     1\n",
      "69996            0     0\n",
      "69997            0     1\n",
      "69998            1     0\n",
      "69999            0     1\n",
      "\n",
      "[70000 rows x 2 columns]\n"
     ]
    }
   ],
   "source": [
    "df['cholesterol'] = np.where(df['cholesterol'] == 1, 0, 1)\n",
    "df['gluc'] = np.where(df['gluc'] == 1, 0, 1)\n",
    "\n",
    "print(df[['cholesterol', 'gluc']])"
   ]
  },
  {
   "cell_type": "markdown",
   "metadata": {},
   "source": [
    "# Create DataFrame for cat plot using `pd.melt` using just the values from 'cholesterol', 'gluc', 'smoke', 'alco', 'active', and 'overweight'."
   ]
  },
  {
   "cell_type": "code",
   "execution_count": 65,
   "metadata": {},
   "outputs": [
    {
     "name": "stdout",
     "output_type": "stream",
     "text": [
      "        cardio     variable  value\n",
      "0            0  cholesterol      0\n",
      "1            1  cholesterol      1\n",
      "2            1  cholesterol      1\n",
      "3            1  cholesterol      0\n",
      "4            0  cholesterol      0\n",
      "...        ...          ...    ...\n",
      "419995       0   overweight      0\n",
      "419996       1   overweight      0\n",
      "419997       1   overweight      0\n",
      "419998       1   overweight      0\n",
      "419999       0   overweight      0\n",
      "\n",
      "[420000 rows x 3 columns]\n"
     ]
    }
   ],
   "source": [
    "df_cat = pd.melt(df, id_vars=['cardio'], value_vars=['cholesterol', 'gluc', 'smoke', 'alco', 'active', 'overweight'])\n",
    "print(df_cat)\n"
   ]
  },
  {
   "cell_type": "markdown",
   "metadata": {},
   "source": [
    "# Group and reformat the data to split it by 'cardio'. Show the counts of each feature. You will have to rename one of the columns for the catplot to work correctly."
   ]
  },
  {
   "cell_type": "code",
   "execution_count": 66,
   "metadata": {},
   "outputs": [
    {
     "name": "stdout",
     "output_type": "stream",
     "text": [
      "        cardio     features  counts\n",
      "0            0  cholesterol       0\n",
      "1            1  cholesterol       1\n",
      "2            1  cholesterol       1\n",
      "3            1  cholesterol       0\n",
      "4            0  cholesterol       0\n",
      "...        ...          ...     ...\n",
      "419995       0   overweight       0\n",
      "419996       1   overweight       0\n",
      "419997       1   overweight       0\n",
      "419998       1   overweight       0\n",
      "419999       0   overweight       0\n",
      "\n",
      "[420000 rows x 3 columns]\n"
     ]
    }
   ],
   "source": [
    "df_cat.rename(columns={'variable': 'features', 'value': 'counts'}, inplace=True )\n",
    "print(df_cat)"
   ]
  },
  {
   "cell_type": "markdown",
   "metadata": {},
   "source": [
    "# Draw the catplot with 'sns.catplot()'"
   ]
  },
  {
   "cell_type": "code",
   "execution_count": 73,
   "metadata": {},
   "outputs": [
    {
     "data": {
      "text/plain": [
       "<seaborn.axisgrid.FacetGrid at 0x1d6c421b830>"
      ]
     },
     "execution_count": 73,
     "metadata": {},
     "output_type": "execute_result"
    },
    {
     "data": {
      "image/png": "[encoded data removed]",
      "text/plain": [
       "<Figure size 1058.88x500 with 2 Axes>"
      ]
     },
     "metadata": {},
     "output_type": "display_data"
    }
   ],
   "source": [
    "fig = sns.catplot(x=\"features\",kind=\"count\", hue=\"counts\", data=df_cat, col=\"cardio\" )\n",
    "fig.set_axis_labels('features', 'total')"
   ]
  },
  {
   "cell_type": "markdown",
   "metadata": {},
   "source": [
    "# Draw Heat Map"
   ]
  },
  {
   "cell_type": "markdown",
   "metadata": {},
   "source": [
    "# Clean the data\n",
    "Clean the data. Filter out the following patient segments that represent incorrect data:\n",
    "* diastolic pressure is higher than systolic (Keep the correct data with (df['ap_lo'] <= df['ap_hi']))\n",
    "* height is less than the 2.5th percentile (Keep the correct data with (df['height'] >= df['height'].quantile(0.025)))\n",
    "* height is more than the 97.5th percentile\n",
    "* weight is less than the 2.5th percentile\n",
    "* weight is more than the 97.5th percentile"
   ]
  },
  {
   "cell_type": "code",
   "execution_count": 74,
   "metadata": {},
   "outputs": [
    {
     "name": "stdout",
     "output_type": "stream",
     "text": [
      "          id    age  sex  height  weight  ap_hi  ap_lo  cholesterol  gluc  \\\n",
      "0          0  18393    2     168    62.0    110     80            1     1   \n",
      "1          1  20228    1     156    85.0    140     90            0     1   \n",
      "2          2  18857    1     165    64.0    130     70            0     1   \n",
      "3          3  17623    2     169    82.0    150    100            1     1   \n",
      "4          4  17474    1     156    56.0    100     60            1     1   \n",
      "...      ...    ...  ...     ...     ...    ...    ...          ...   ...   \n",
      "69993  99991  19699    1     172    70.0    130     90            1     1   \n",
      "69994  99992  21074    1     165    80.0    150     80            1     1   \n",
      "69995  99993  19240    2     168    76.0    120     80            1     1   \n",
      "69998  99998  22431    1     163    72.0    135     80            1     0   \n",
      "69999  99999  20540    1     170    72.0    120     80            0     1   \n",
      "\n",
      "       smoke  alco  active  cardio  overweight  \n",
      "0          0     0       1       0           0  \n",
      "1          0     0       1       1           1  \n",
      "2          0     0       0       1           0  \n",
      "3          0     0       1       1           1  \n",
      "4          0     0       0       0           0  \n",
      "...      ...   ...     ...     ...         ...  \n",
      "69993      0     0       1       1           0  \n",
      "69994      0     0       1       1           1  \n",
      "69995      1     0       1       0           1  \n",
      "69998      0     0       0       1           1  \n",
      "69999      0     0       1       0           0  \n",
      "\n",
      "[63259 rows x 14 columns]\n"
     ]
    }
   ],
   "source": [
    "df_heat = df[(\n",
    "    (df['ap_lo'] <= df['ap_hi'])&\n",
    "    (df['height'] >= df['height'].quantile(0.025))&\n",
    "    (df['height'] <= df['height'].quantile(0.975))&\n",
    "    (df['weight'] >= df['weight'].quantile(0.025))&\n",
    "    (df['weight'] <= df['weight'].quantile(0.975))\n",
    ")]\n",
    "print(df_heat)"
   ]
  }
 ],
 "metadata": {
  "kernelspec": {
   "display_name": "data_examing-x0TaOFwW",
   "language": "python",
   "name": "python3"
  },
  "language_info": {
   "codemirror_mode": {
    "name": "ipython",
    "version": 3
   },
   "file_extension": ".py",
   "mimetype": "text/x-python",
   "name": "python",
   "nbconvert_exporter": "python",
   "pygments_lexer": "ipython3",
   "version": "3.12.0"
  }
 },
 "nbformat": 4,
 "nbformat_minor": 2
}
