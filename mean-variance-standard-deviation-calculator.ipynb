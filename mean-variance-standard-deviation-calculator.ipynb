{
 "cells": [
  {
   "cell_type": "code",
   "execution_count": 3,
   "metadata": {},
   "outputs": [],
   "source": [
    "import numpy as np"
   ]
  },
  {
   "cell_type": "code",
   "execution_count": 8,
   "metadata": {},
   "outputs": [],
   "source": [
    "def calculate(list):\n",
    "  if (len(list) != 9):\n",
    "    raise ValueError(\"List must contain nine numbers.\")\n",
    "  data = np.array(list).reshape(3,3)\n",
    "    ## flattened values\n",
    "  flat_mean = np.mean(list)\n",
    "  flat_var = np.var(data)\n",
    "  flat_std = np.std(data)\n",
    "  flat_max = np.max(data)\n",
    "  flat_min = np.min(data)\n",
    "  flat_sum = np.sum(data)\n",
    "\n",
    "  ## axis1 values\n",
    "  axis1_mean = np.mean(data, axis=0)\n",
    "  axis1_var = np.var(data, axis=0)\n",
    "  axis1_std = np.std(data, axis=0)\n",
    "  axis1_max = np.max(data, axis=0)\n",
    "  axis1_min = np.min(data, axis=0)\n",
    "  axis1_sum = np.sum(data, axis=0)\n",
    "  ## axis2 values\n",
    "  axis2_mean = np.mean(data, axis=1)\n",
    "  axis2_var = np.var(data, axis=1)\n",
    "  axis2_std = np.std(data, axis=1)\n",
    "  axis2_max = np.max(data, axis=1)\n",
    "  axis2_min = np.min(data, axis=1)\n",
    "  axis2_sum = np.sum(data, axis=1)\n",
    "\n",
    "\n",
    "  calculations = {\n",
    "    'mean': [axis1_mean, axis2_mean, flat_mean],\n",
    "    'variance': [axis1_var, axis2_var, flat_var],\n",
    "    'standard deviation': [axis1_std, axis2_std, flat_std],\n",
    "    'max': [axis1_max, axis2_max, flat_max],\n",
    "    'min': [axis1_min, axis2_min, flat_min],\n",
    "    'sum': [axis1_sum, axis2_sum, flat_sum]\n",
    "  }\n",
    "  return calculations"
   ]
  },
  {
   "cell_type": "code",
   "execution_count": 9,
   "metadata": {},
   "outputs": [
    {
     "name": "stdout",
     "output_type": "stream",
     "text": [
      "{'mean': [array([3., 4., 5.]), array([1., 4., 7.]), 4.0], 'variance': [array([6., 6., 6.]), array([0.66666667, 0.66666667, 0.66666667]), 6.666666666666667], 'standard deviation': [array([2.44948974, 2.44948974, 2.44948974]), array([0.81649658, 0.81649658, 0.81649658]), 2.581988897471611], 'max': [array([6, 7, 8]), array([2, 5, 8]), 8], 'min': [array([0, 1, 2]), array([0, 3, 6]), 0], 'sum': [array([ 9, 12, 15]), array([ 3, 12, 21]), 36]}\n"
     ]
    }
   ],
   "source": [
    "print(calculate([0,1,2,3,4,5,6,7,8]))"
   ]
  }
 ],
 "metadata": {
  "kernelspec": {
   "display_name": "data_examing-x0TaOFwW",
   "language": "python",
   "name": "python3"
  },
  "language_info": {
   "codemirror_mode": {
    "name": "ipython",
    "version": 3
   },
   "file_extension": ".py",
   "mimetype": "text/x-python",
   "name": "python",
   "nbconvert_exporter": "python",
   "pygments_lexer": "ipython3",
   "version": "3.12.0"
  }
 },
 "nbformat": 4,
 "nbformat_minor": 2
}
